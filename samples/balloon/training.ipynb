{
 "cells": [
  {
   "cell_type": "code",
   "execution_count": null,
   "metadata": {},
   "outputs": [],
   "source": [
    "import os\n",
    "import sys\n",
    "import numpy as np\n",
    "from balloon import BalloonDataset\n",
    "import multiprocessing\n",
    "import tensorflow as tf\n",
    "\n",
    "# define important dirs\n",
    "ROOT_DIR = os.path.join(os.getcwd(), \"..\", \"..\")\n",
    "DEFAULT_LOGS_DIR = os.path.join(ROOT_DIR, \"model_logs\")\n",
    "\n",
    "# Import Mask RCNN\n",
    "sys.path.append(ROOT_DIR)  # To find local version of the library\n",
    "from mrcnn.config import Config\n",
    "from mrcnn import model as modellib, utils\n",
    "\n",
    "# Path to trained weights mrcnn weights - for transfer learning\n",
    "COCO_WEIGHTS_PATH = os.path.join(ROOT_DIR, \"weights\", \"mask_rcnn_coco.h5\")\n",
    "\n",
    "# show visible GPU devices and limit the memory growth\n",
    "print('List physical GPU devices:')\n",
    "gpu_devices = tf.config.list_physical_devices('GPU')\n",
    "for gpu in gpu_devices: \n",
    "    print(' '*3, gpu)\n",
    "    try:\n",
    "        tf.config.experimental.set_memory_growth(gpu, True)\n",
    "    except RuntimeError as error:\n",
    "        print(error)"
   ]
  },
  {
   "cell_type": "markdown",
   "metadata": {},
   "source": [
    "## Configs\n",
    "<span style=\"background-color: yellow\">REMARK:</span> USE_MINI_MASK=True doesn't work as intended probably due to rescaling during training. This requires a considarable amount of rechecking. However, mask training works as intended if not using mini masks. "
   ]
  },
  {
   "cell_type": "code",
   "execution_count": null,
   "metadata": {
    "scrolled": false
   },
   "outputs": [],
   "source": [
    "class BalloonConfig(Config):\n",
    "    \"\"\"Configuration for training on the toy  dataset.\n",
    "    Derives from the base Config class and overrides some values.\n",
    "    \"\"\"\n",
    "    # Give the configuration a recognizable name\n",
    "    NAME = \"balloon\"\n",
    "\n",
    "    # We use a GPU with 12GB memory, which can fit two images.\n",
    "    # Adjust down if you use a smaller GPU.\n",
    "    IMAGES_PER_GPU = 1\n",
    "\n",
    "    # Number of classes (including background)\n",
    "    NUM_CLASSES = 1 + 1  # Background + balloon\n",
    "\n",
    "    # Number of training steps\n",
    "    EPOCHS = 20\n",
    "    STEPS_PER_EPOCH = 61\n",
    "\n",
    "    # Number of gt instances to use in batch\n",
    "    MAX_GT_INSTANCES = 100\n",
    "\n",
    "    # Skip detections with < 90% confidence\n",
    "    DETECTION_MIN_CONFIDENCE = 0.9\n",
    "    \n",
    "    # see REMARK in the description\n",
    "    USE_MINI_MASK = False\n",
    "    \n",
    "    # TF2 feature - now you can run the model interactively\n",
    "    RUN_EAGERLY = False\n",
    "        \n",
    "config = BalloonConfig()\n",
    "# config.display()"
   ]
  },
  {
   "cell_type": "markdown",
   "metadata": {},
   "source": [
    "## Init dataclass"
   ]
  },
  {
   "cell_type": "code",
   "execution_count": null,
   "metadata": {},
   "outputs": [],
   "source": [
    "BALLOON_DIR = os.path.join(ROOT_DIR, 'data', 'balloon')\n",
    "\n",
    "train_ds = BalloonDataset()\n",
    "val_ds = BalloonDataset()\n",
    "\n",
    "# load data\n",
    "train_ds.load_balloon(BALLOON_DIR, 'train')\n",
    "val_ds.load_balloon(BALLOON_DIR, 'val')\n",
    "\n",
    "# transform data into container structure - must have\n",
    "train_ds.prepare()\n",
    "val_ds.prepare()\n",
    "config.VALIDATION_STEPS = len(val_ds.image_ids)\n",
    "\n",
    "print(\"Image train count: {}\".format(len(train_ds.image_ids)))\n",
    "print(\"Class train count: {}\".format(train_ds.num_classes))\n",
    "for i, info in enumerate(train_ds.class_info):\n",
    "    print(\"{:3}. {:50}\".format(i, info['name']))\n",
    "    \n",
    "print(\"\\nImage val count: {}\".format(len(val_ds.image_ids)))\n",
    "print(\"Class val count: {}\".format(val_ds.num_classes))\n",
    "for i, info in enumerate(val_ds.class_info):\n",
    "    print(\"{:3}. {:50}\".format(i, info['name']))"
   ]
  },
  {
   "cell_type": "markdown",
   "metadata": {},
   "source": [
    "## Setup the model"
   ]
  },
  {
   "cell_type": "code",
   "execution_count": null,
   "metadata": {
    "scrolled": false
   },
   "outputs": [],
   "source": [
    "# with tf.device('CPU:0'):\n",
    "model = modellib.MaskRCNN(mode=\"training\", config=config, model_dir=DEFAULT_LOGS_DIR)\n",
    "\n",
    "# Exclude the last layers because they require a matching\n",
    "# number of classes\n",
    "model.load_weights(COCO_WEIGHTS_PATH, by_name=True, \n",
    "                   exclude=[\"rpn_model\",\n",
    "                            \"mrcnn_class_logits\", \n",
    "                            \"mrcnn_bbox_fc\", \n",
    "                            \"mrcnn_bbox\", \n",
    "                            \"mrcnn_mask\"])"
   ]
  },
  {
   "cell_type": "markdown",
   "metadata": {},
   "source": [
    "## Training"
   ]
  },
  {
   "cell_type": "code",
   "execution_count": null,
   "metadata": {
    "scrolled": false
   },
   "outputs": [],
   "source": [
    "model.train(train_ds, \n",
    "            val_ds,\n",
    "            learning_rate=config.LEARNING_RATE,\n",
    "            epochs=config.EPOCHS,\n",
    "            layers='heads',\n",
    "            max_queue_size=10,\n",
    "            use_multiprocessing=False)"
   ]
  }
 ],
 "metadata": {
  "kernelspec": {
   "display_name": "Python 3",
   "language": "python",
   "name": "python3"
  },
  "language_info": {
   "codemirror_mode": {
    "name": "ipython",
    "version": 3
   },
   "file_extension": ".py",
   "mimetype": "text/x-python",
   "name": "python",
   "nbconvert_exporter": "python",
   "pygments_lexer": "ipython3",
   "version": "3.8.10"
  },
  "vscode": {
   "interpreter": {
    "hash": "916dbcbb3f70747c44a77c7bcd40155683ae19c65e1c03b4aa3499c5328201f1"
   }
  }
 },
 "nbformat": 4,
 "nbformat_minor": 2
}
